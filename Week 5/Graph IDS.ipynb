{
 "cells": [
  {
   "cell_type": "markdown",
   "metadata": {},
   "source": [
    "## IDS Graph \n"
   ]
  },
  {
   "cell_type": "code",
   "execution_count": 1,
   "metadata": {},
   "outputs": [],
   "source": [
    "from collections import defaultdict\n"
   ]
  },
  {
   "cell_type": "code",
   "execution_count": 2,
   "metadata": {},
   "outputs": [],
   "source": [
    "class Graph:\n",
    "    def __init__(self, vertices):\n",
    "        self.V = vertices\n",
    "        self.graph = defaultdict(list)\n",
    "\n",
    "    def addEdge(self, u: int, v: int):\n",
    "        self.graph[u].append(v)\n",
    "\n",
    "    def DLS(self, src: int, target: int, limit: int):\n",
    "\n",
    "        if(src == target):\n",
    "            return True\n",
    "\n",
    "        if(limit <= 0):\n",
    "            return False\n",
    "\n",
    "        for i in self.graph[src]:\n",
    "            if(self.DLS(i, target, limit-1)):\n",
    "                return True\n",
    "\n",
    "        return False\n",
    "\n",
    "    def IDDFS(self, src: int, target: int, limit: int):\n",
    "        for i in range(limit):\n",
    "            if(self.DLS(src, target, i)):\n",
    "                return True\n",
    "        return False"
   ]
  },
  {
   "cell_type": "code",
   "execution_count": 5,
   "metadata": {},
   "outputs": [
    {
     "name": "stdout",
     "output_type": "stream",
     "text": [
      "Enter the number of edges: 4\n",
      "Enter 4 edges\n",
      "Edge 0 u and v: 1 2\n",
      "Edge 1 u and v: 2 3\n",
      "Edge 2 u and v: 4 1\n",
      "Edge 3 u and v: 1 3\n"
     ]
    }
   ],
   "source": [
    "### Enter endges in the format <{u} {v}> where u is the starting vertice, and v is the ending vertice\n",
    "k = int(input(\"Enter the number of edges: \"))\n",
    "g = Graph(k)\n",
    "print(f'Enter {k} edges')\n",
    "for i in range((k)):\n",
    "    u, v = input(f'Edge {i} u and v: ').split()\n",
    "    g.addEdge(int(u), int(v))\n"
   ]
  },
  {
   "cell_type": "code",
   "execution_count": 6,
   "metadata": {},
   "outputs": [
    {
     "name": "stdout",
     "output_type": "stream",
     "text": [
      "Enter the Target, maxDepth & src \n",
      "4 3 1\n",
      "Target is NOT reachable from source within max depth\n",
      "Test another vertice? (y / n) n\n"
     ]
    }
   ],
   "source": [
    "while(True):\n",
    "    target, maxDepth, src = input(\n",
    "        \"Enter the Target, maxDepth & src \\n\").split()\n",
    "    if g.IDDFS(int(src), int(target), int(maxDepth)) == True:\n",
    "        print(\"Target is reachable from source \" +\n",
    "              \"within max depth\")\n",
    "    else:\n",
    "        print(\"Target is NOT reachable from source \" +\n",
    "              \"within max depth\")\n",
    "\n",
    "    cont = input(\"Test another vertice? (y / n) \")\n",
    "    if cont in ['n', 'N']:\n",
    "        break"
   ]
  },
  {
   "cell_type": "code",
   "execution_count": null,
   "metadata": {},
   "outputs": [],
   "source": []
  }
 ],
 "metadata": {
  "kernelspec": {
   "display_name": "Python 3",
   "language": "python",
   "name": "python3"
  },
  "language_info": {
   "codemirror_mode": {
    "name": "ipython",
    "version": 3
   },
   "file_extension": ".py",
   "mimetype": "text/x-python",
   "name": "python",
   "nbconvert_exporter": "python",
   "pygments_lexer": "ipython3",
   "version": "3.8.5"
  }
 },
 "nbformat": 4,
 "nbformat_minor": 4
}
