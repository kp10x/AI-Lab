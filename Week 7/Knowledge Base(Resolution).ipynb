{
 "cells": [
  {
   "cell_type": "markdown",
   "metadata": {},
   "source": [
    "## Knowledge Base using Resolution"
   ]
  },
  {
   "cell_type": "code",
   "execution_count": 1,
   "metadata": {},
   "outputs": [],
   "source": [
    "def disjunctify(clauses):\n",
    "    disjuncts = []\n",
    "    for clause in clauses:\n",
    "        disjuncts.append(tuple(clause.split('v')))\n",
    "    return disjuncts\n",
    "\n",
    "def getResolvant(ci, cj, di, dj):\n",
    "    resolvant = list(ci) + list(cj)\n",
    "    resolvant.remove(di)\n",
    "    resolvant.remove(dj)\n",
    "    return tuple(resolvant)\n",
    "\n",
    "def resolve(ci, cj):\n",
    "    for di in ci:\n",
    "        for dj in cj:\n",
    "            if di == '~' + dj or dj == '~' + di:\n",
    "                return getResolvant(ci, cj, di, dj)"
   ]
  },
  {
   "cell_type": "code",
   "execution_count": 2,
   "metadata": {},
   "outputs": [],
   "source": [
    "def checkResolution(clauses, query):\n",
    "    clauses += [query if query.startswith('~') else '~' + query]\n",
    "    proposition = '^'.join(['(' + clause + ')' for clause in clauses])\n",
    "    print(f'Trying to prove {proposition} by contradiction....')\n",
    "    \n",
    "    clauses = disjunctify(clauses)\n",
    "    resolved = False\n",
    "    new = set()\n",
    "    \n",
    "    while not resolved:\n",
    "        n = len(clauses)\n",
    "        pairs = [(clauses[i], clauses[j]) for i in range(n) for j in range(i + 1, n)]\n",
    "        for (ci, cj) in pairs:\n",
    "            resolvant = resolve(ci, cj)\n",
    "            if not resolvant:\n",
    "                resolved = True\n",
    "                break\n",
    "            new = new.union(set(resolvents))\n",
    "        if new.issubset(set(clauses)):\n",
    "            break\n",
    "        for clause in new:\n",
    "            if clause not in clauses:\n",
    "                clauses.append(clause)\n",
    "        \n",
    "    if resolved:\n",
    "        print('Knowledge Base entails the query, proved by resolution')\n",
    "    else:\n",
    "        print(\"Knowledge Base doesn't entail the query, no empty set produced after resolution\")"
   ]
  },
  {
   "cell_type": "code",
   "execution_count": 3,
   "metadata": {},
   "outputs": [
    {
     "name": "stdout",
     "output_type": "stream",
     "text": [
      "Enter the clauses AvB BvC ~C\n",
      "Enter the query: B\n",
      "Trying to prove (AvB)^(BvC)^(~C)^(~B) by contradiction....\n",
      "Knowledge Base entails the query, proved by resolution\n"
     ]
    }
   ],
   "source": [
    "#Test Case 1\n",
    "clauses = input('Enter the clauses ').split()\n",
    "query = input('Enter the query: ')\n",
    "checkResolution(clauses, query)"
   ]
  },
  {
   "cell_type": "code",
   "execution_count": 4,
   "metadata": {},
   "outputs": [
    {
     "name": "stdout",
     "output_type": "stream",
     "text": [
      "Enter the clauses ~Qv~PvR ~Q^P Q\n",
      "Enter the query: Q\n",
      "Trying to prove (~Qv~PvR)^(~Q^P)^(Q)^(~Q) by contradiction....\n",
      "Knowledge Base entails the query, proved by resolution\n"
     ]
    }
   ],
   "source": [
    "#Test Case 2\n",
    "clauses = input('Enter the clauses ').split()\n",
    "query = input('Enter the query: ')\n",
    "checkResolution(clauses, query)"
   ]
  },
  {
   "cell_type": "code",
   "execution_count": null,
   "metadata": {},
   "outputs": [],
   "source": []
  }
 ],
 "metadata": {
  "kernelspec": {
   "display_name": "Python 3",
   "language": "python",
   "name": "python3"
  },
  "language_info": {
   "codemirror_mode": {
    "name": "ipython",
    "version": 3
   },
   "file_extension": ".py",
   "mimetype": "text/x-python",
   "name": "python",
   "nbconvert_exporter": "python",
   "pygments_lexer": "ipython3",
   "version": "3.8.5"
  }
 },
 "nbformat": 4,
 "nbformat_minor": 4
}
